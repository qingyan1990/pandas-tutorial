{
 "cells": [
  {
   "cell_type": "markdown",
   "metadata": {},
   "source": [
    "Series是一维有标记数据，可以包含多种数据类型（integer, string, float, python objects, etc）\n",
    "### pandas.Series\n",
    "\n",
    "`pandas.Series( data, index, dtype, copy)`\n",
    "\n",
    "|Parameter|Description|\n",
    "|:-|-:|\n",
    "|data|data takes various forms like ndarray, list, constants|\n",
    "|index|Index values must be unique and hashable, same length as data. Default np.arrange(n) if no index is passed|\n",
    "|dtype|dtype is for data type. If None, data type will be inferred|\n",
    "|copy|Copy data. Default False|\n",
    "\n",
    "Series可以根据多种输入来进行创建\n",
    "* Array\n",
    "* Dict\n",
    "* Scalar value or constant\n",
    "\n",
    "### 创建空Series"
   ]
  },
  {
   "cell_type": "code",
   "execution_count": null,
   "metadata": {},
   "outputs": [],
   "source": [
    "import pandas as pd\n",
    "s = pd.Series()\n",
    "print(s)"
   ]
  },
  {
   "cell_type": "markdown",
   "metadata": {},
   "source": [
    "### 根据ndarray创建Series\n",
    "如果输入是一个ndarray, 那么索引需要与输入数组是相同的长度，当没有提供索引值时, 默认情况下索引是range(n)，n是ndarray的长度。"
   ]
  },
  {
   "cell_type": "code",
   "execution_count": null,
   "metadata": {},
   "outputs": [],
   "source": [
    "import numpy as np\n",
    "data = np.array(['a','b','c','d'])\n",
    "s = pd.Series(data)\n",
    "print(s)"
   ]
  },
  {
   "cell_type": "code",
   "execution_count": null,
   "metadata": {},
   "outputs": [],
   "source": [
    "data = np.array(['a','b','c','d'])\n",
    "s = pd.Series(data,index=[100,101,102,103])\n",
    "print(s)"
   ]
  },
  {
   "cell_type": "markdown",
   "metadata": {},
   "source": [
    "### 根据dict创建Series\n",
    "当从dict中创建Series时，如果我们没有提供index，那么dict中的key会进行排序，并作为默认的index；当提供了index时，值是对应dict key的值。"
   ]
  },
  {
   "cell_type": "code",
   "execution_count": null,
   "metadata": {},
   "outputs": [],
   "source": [
    "data = {'a' : 0., 'b' : 1., 'c' : 2.}\n",
    "s = pd.Series(data)\n",
    "print(s)"
   ]
  },
  {
   "cell_type": "code",
   "execution_count": null,
   "metadata": {},
   "outputs": [],
   "source": [
    "data = {'a' : 0., 'b' : 1., 'c' : 2.}\n",
    "s = pd.Series(data,index=['b','c','d','a'])\n",
    "print(s)"
   ]
  },
  {
   "cell_type": "markdown",
   "metadata": {},
   "source": [
    "### 根据标量值（Scalar）创建Series\n",
    "根据标量值创建Series时，必须提供index. 标量值会重复index的长度次"
   ]
  },
  {
   "cell_type": "code",
   "execution_count": null,
   "metadata": {},
   "outputs": [],
   "source": [
    "s = pd.Series(5, index=[0, 1, 2, 3])\n",
    "print(s)"
   ]
  },
  {
   "cell_type": "markdown",
   "metadata": {},
   "source": [
    "### 获取Series中的值\n",
    "Series中的值的获取方式同ndarray类似"
   ]
  },
  {
   "cell_type": "code",
   "execution_count": null,
   "metadata": {
    "scrolled": true
   },
   "outputs": [],
   "source": [
    "s = pd.Series([1,2,3,4,5],index = ['a','b','c','d','e'])\n",
    "print(s[0])\n",
    "# 索引范围\n",
    "print(s[:3])\n",
    "print(s[-3:])\n",
    "print(s[1:4])\n",
    "# 具体索引值\n",
    "print(s['a'])\n",
    "# 索引数组\n",
    "print(s[['a','c','d']])\n",
    "# 索引不存在时，会触发KeyError\n",
    "print(s['f'])"
   ]
  }
 ],
 "metadata": {
  "kernelspec": {
   "display_name": "Python 3",
   "language": "python",
   "name": "python3"
  },
  "language_info": {
   "codemirror_mode": {
    "name": "ipython",
    "version": 3
   },
   "file_extension": ".py",
   "mimetype": "text/x-python",
   "name": "python",
   "nbconvert_exporter": "python",
   "pygments_lexer": "ipython3",
   "version": "3.6.3"
  }
 },
 "nbformat": 4,
 "nbformat_minor": 2
}
